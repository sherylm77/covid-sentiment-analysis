{
 "cells": [
  {
   "cell_type": "code",
   "execution_count": 1,
   "metadata": {},
   "outputs": [
    {
     "name": "stdout",
     "output_type": "stream",
     "text": [
      "Defaulting to user installation because normal site-packages is not writeable\n",
      "Requirement already satisfied: tweepy in c:\\users\\shery\\appdata\\roaming\\python\\python37\\site-packages (3.9.0)\n",
      "Requirement already satisfied: requests-oauthlib>=0.7.0 in c:\\users\\shery\\appdata\\roaming\\python\\python37\\site-packages (from tweepy) (1.3.0)\n",
      "Requirement already satisfied: six>=1.10.0 in c:\\users\\shery\\appdata\\roaming\\python\\python37\\site-packages (from tweepy) (1.15.0)\n",
      "Requirement already satisfied: requests[socks]>=2.11.1 in c:\\users\\shery\\appdata\\roaming\\python\\python37\\site-packages (from tweepy) (2.24.0)\n",
      "Requirement already satisfied: oauthlib>=3.0.0 in c:\\users\\shery\\appdata\\roaming\\python\\python37\\site-packages (from requests-oauthlib>=0.7.0->tweepy) (3.1.0)\n",
      "Requirement already satisfied: idna<3,>=2.5 in c:\\users\\shery\\appdata\\roaming\\python\\python37\\site-packages (from requests[socks]>=2.11.1->tweepy) (2.10)\n",
      "Requirement already satisfied: certifi>=2017.4.17 in c:\\users\\shery\\appdata\\roaming\\python\\python37\\site-packages (from requests[socks]>=2.11.1->tweepy) (2020.6.20)\n",
      "Requirement already satisfied: urllib3!=1.25.0,!=1.25.1,<1.26,>=1.21.1 in c:\\users\\shery\\appdata\\roaming\\python\\python37\\site-packages (from requests[socks]>=2.11.1->tweepy) (1.25.9)\n",
      "Requirement already satisfied: chardet<4,>=3.0.2 in c:\\users\\shery\\appdata\\roaming\\python\\python37\\site-packages (from requests[socks]>=2.11.1->tweepy) (3.0.4)\n",
      "Requirement already satisfied: PySocks!=1.5.7,>=1.5.6; extra == \"socks\" in c:\\users\\shery\\appdata\\roaming\\python\\python37\\site-packages (from requests[socks]>=2.11.1->tweepy) (1.7.1)\n"
     ]
    },
    {
     "name": "stderr",
     "output_type": "stream",
     "text": [
      "WARNING: You are using pip version 20.1.1; however, version 20.3.3 is available.\n",
      "You should consider upgrading via the 'c:\\program files\\python37\\python.exe -m pip install --upgrade pip' command.\n"
     ]
    }
   ],
   "source": [
    "# Collecting tweets from zenodo twitter dataset\n",
    "\n",
    "# Download tweepy to use Twitter API\n",
    "!pip3 install tweepy\n",
    "import tweepy"
   ]
  },
  {
   "cell_type": "code",
   "execution_count": null,
   "metadata": {},
   "outputs": [],
   "source": [
    "# Open file with Twitter developer keys\n",
    "keys_file =open(\"TwitterAPI_Keys_Secret.txt\", \"r\")\n",
    "keys = keys_file.readlines()\n",
    "\n",
    "# Twitter developer keys\n",
    "consumer_key = str(keys[0])\n",
    "consumer_secret = str(keys[1])\n",
    "access_token = str(keys[2])\n",
    "access_token_secret = str(keys[3])\n",
    "\n",
    "consumer_key = consumer_key[:len(consumer_key)-1]\n",
    "consumer_secret = consumer_secret[:len(consumer_secret)-1]\n",
    "access_token = access_token[:len(access_token)-1]\n",
    "access_token_secret = access_token_secret[:len(access_token_secret)-1]\n"
   ]
  },
  {
   "cell_type": "code",
   "execution_count": 17,
   "metadata": {},
   "outputs": [],
   "source": [
    "auth = tweepy.OAuthHandler(consumer_key, consumer_secret)\n",
    "auth.set_access_token(access_token, access_token_secret)\n",
    "\n",
    "api = tweepy.API(auth)"
   ]
  },
  {
   "cell_type": "code",
   "execution_count": 19,
   "metadata": {},
   "outputs": [
    {
     "name": "stdout",
     "output_type": "stream",
     "text": [
      "2 1212360731695427584\n",
      "3 1213249613735460865\n",
      "4 1213330173736738817\n",
      "5 1214195710301618178\n",
      "6 1214198629553950721\n",
      "7 1214917256414662656\n",
      "8 1214936881563082752\n",
      "9 1214978895914684418\n",
      "10 1215028015438192640\n",
      "11 1215081761249615872\n",
      "12 1215095787002028033\n",
      "13 1215104980908236800\n",
      "14 1215110626411978753\n",
      "15 1215112006363009024\n",
      "16 1215114820749594626\n",
      "17 1215166339352080384\n",
      "18 1215211709142577152\n",
      "19 1215221343479726081\n"
     ]
    }
   ],
   "source": [
    "import csv\n",
    "\n",
    "tsv_file = \"full_dataset-clean.tsv\"\n",
    "data = open(tsv_file)\n",
    "read_tsv = csv.reader(data, delimiter=\"\\t\")\n",
    "\n",
    "row_count = 1\n",
    "tweet_ids = []\n",
    "for row in read_tsv:\n",
    "    if row_count == 1:\n",
    "        row_count += 1\n",
    "        continue\n",
    "    tweet_ids.append(row[0])\n",
    "    print(row_count, row[0])\n",
    "    row_count += 1\n",
    "    if row_count == 20:\n",
    "        break"
   ]
  },
  {
   "cell_type": "code",
   "execution_count": 34,
   "metadata": {},
   "outputs": [
    {
     "name": "stdout",
     "output_type": "stream",
     "text": [
      "Coronavirus | Human Coronavirus Types | CDC https://t.co/IxoxVRarIb\n"
     ]
    }
   ],
   "source": [
    "#print(tweet_ids)\n",
    "tweet = api.get_status(tweet_ids[1])\n",
    "print(tweet.text)"
   ]
  },
  {
   "cell_type": "code",
   "execution_count": null,
   "metadata": {},
   "outputs": [],
   "source": []
  }
 ],
 "metadata": {
  "kernelspec": {
   "display_name": "Python 3",
   "language": "python",
   "name": "python3"
  },
  "language_info": {
   "codemirror_mode": {
    "name": "ipython",
    "version": 3
   },
   "file_extension": ".py",
   "mimetype": "text/x-python",
   "name": "python",
   "nbconvert_exporter": "python",
   "pygments_lexer": "ipython3",
   "version": "3.7.8"
  }
 },
 "nbformat": 4,
 "nbformat_minor": 4
}
