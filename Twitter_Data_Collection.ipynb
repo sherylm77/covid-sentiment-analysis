{
 "cells": [
  {
   "cell_type": "code",
   "execution_count": 1,
   "metadata": {},
   "outputs": [
    {
     "name": "stderr",
     "output_type": "stream",
     "text": [
      "WARNING: You are using pip version 20.1.1; however, version 21.0.1 is available.\n",
      "You should consider upgrading via the 'c:\\program files\\python37\\python.exe -m pip install --upgrade pip' command.\n"
     ]
    },
    {
     "name": "stdout",
     "output_type": "stream",
     "text": [
      "Defaulting to user installation because normal site-packages is not writeable\n",
      "Requirement already satisfied: tweepy in c:\\users\\shery\\appdata\\roaming\\python\\python37\\site-packages (3.9.0)\n",
      "Requirement already satisfied: six>=1.10.0 in c:\\users\\shery\\appdata\\roaming\\python\\python37\\site-packages (from tweepy) (1.15.0)\n",
      "Requirement already satisfied: requests[socks]>=2.11.1 in c:\\users\\shery\\appdata\\roaming\\python\\python37\\site-packages (from tweepy) (2.24.0)\n",
      "Requirement already satisfied: requests-oauthlib>=0.7.0 in c:\\users\\shery\\appdata\\roaming\\python\\python37\\site-packages (from tweepy) (1.3.0)\n",
      "Requirement already satisfied: idna<3,>=2.5 in c:\\users\\shery\\appdata\\roaming\\python\\python37\\site-packages (from requests[socks]>=2.11.1->tweepy) (2.10)\n",
      "Requirement already satisfied: certifi>=2017.4.17 in c:\\users\\shery\\appdata\\roaming\\python\\python37\\site-packages (from requests[socks]>=2.11.1->tweepy) (2020.6.20)\n",
      "Requirement already satisfied: urllib3!=1.25.0,!=1.25.1,<1.26,>=1.21.1 in c:\\users\\shery\\appdata\\roaming\\python\\python37\\site-packages (from requests[socks]>=2.11.1->tweepy) (1.25.9)\n",
      "Requirement already satisfied: chardet<4,>=3.0.2 in c:\\users\\shery\\appdata\\roaming\\python\\python37\\site-packages (from requests[socks]>=2.11.1->tweepy) (3.0.4)\n",
      "Requirement already satisfied: PySocks!=1.5.7,>=1.5.6; extra == \"socks\" in c:\\users\\shery\\appdata\\roaming\\python\\python37\\site-packages (from requests[socks]>=2.11.1->tweepy) (1.7.1)\n",
      "Requirement already satisfied: oauthlib>=3.0.0 in c:\\users\\shery\\appdata\\roaming\\python\\python37\\site-packages (from requests-oauthlib>=0.7.0->tweepy) (3.1.0)\n"
     ]
    }
   ],
   "source": [
    "# Collecting tweets from zenodo twitter dataset\n",
    "\n",
    "# Download tweepy to use Twitter API\n",
    "!pip3 install tweepy\n",
    "import tweepy"
   ]
  },
  {
   "cell_type": "code",
   "execution_count": 2,
   "metadata": {},
   "outputs": [],
   "source": [
    "# Open file with Twitter developer keys\n",
    "keys_file =open(\"TwitterAPI_Keys_Secret.txt\", \"r\")\n",
    "keys = keys_file.readlines()\n",
    "\n",
    "# Twitter developer keys\n",
    "consumer_key = str(keys[0])\n",
    "consumer_secret = str(keys[1])\n",
    "access_token = str(keys[2])\n",
    "access_token_secret = str(keys[3])\n",
    "\n",
    "consumer_key = consumer_key[:len(consumer_key)-1]\n",
    "consumer_secret = consumer_secret[:len(consumer_secret)-1]\n",
    "access_token = access_token[:len(access_token)-1]\n",
    "access_token_secret = access_token_secret[:len(access_token_secret)-1]\n"
   ]
  },
  {
   "cell_type": "code",
   "execution_count": 3,
   "metadata": {},
   "outputs": [],
   "source": [
    "auth = tweepy.OAuthHandler(consumer_key, consumer_secret)\n",
    "auth.set_access_token(access_token, access_token_secret)\n",
    "\n",
    "api = tweepy.API(auth)"
   ]
  },
  {
   "cell_type": "code",
   "execution_count": 22,
   "metadata": {},
   "outputs": [],
   "source": [
    "import csv\n",
    "\n",
    "tsv_file = \"full_dataset-clean.tsv\"\n",
    "data = open(tsv_file)\n",
    "read_tsv = csv.reader(data, delimiter=\"\\t\")\n",
    "\n",
    "row_count = 1\n",
    "tweet_ids = []\n",
    "for row in read_tsv:\n",
    "    #if row_count <= 2:\n",
    "    #    row_count += 1\n",
    "    #    continue\n",
    "    tweet_ids.append(row[0])\n",
    "    #print(row_count, row[0])\n",
    "    row_count += 1\n",
    "    if row_count == 21:\n",
    "        break"
   ]
  },
  {
   "cell_type": "code",
   "execution_count": 31,
   "metadata": {},
   "outputs": [
    {
     "name": "stdout",
     "output_type": "stream",
     "text": [
      "Defaulting to user installation because normal site-packages is not writeable\n",
      "Requirement already satisfied: unidecode in c:\\users\\shery\\appdata\\roaming\\python\\python37\\site-packages (1.1.1)\n"
     ]
    },
    {
     "name": "stderr",
     "output_type": "stream",
     "text": [
      "WARNING: You are using pip version 20.1.1; however, version 21.0.1 is available.\n",
      "You should consider upgrading via the 'c:\\program files\\python37\\python.exe -m pip install --upgrade pip' command.\n"
     ]
    },
    {
     "name": "stdout",
     "output_type": "stream",
     "text": [
      "Defaulting to user installation because normal site-packages is not writeable\n",
      "Requirement already satisfied: google_trans_new in c:\\users\\shery\\appdata\\roaming\\python\\python37\\site-packages (1.1.9)\n",
      "tweet 0 not found\n"
     ]
    },
    {
     "name": "stderr",
     "output_type": "stream",
     "text": [
      "WARNING: You are using pip version 20.1.1; however, version 21.0.1 is available.\n",
      "You should consider upgrading via the 'c:\\program files\\python37\\python.exe -m pip install --upgrade pip' command.\n"
     ]
    },
    {
     "name": "stdout",
     "output_type": "stream",
     "text": [
      "tweet 1 not found\n",
      "2 Coronavirus | Human Coronavirus Types | CDC  \n",
      "\n",
      "2 english \n",
      "\n",
      "3 @shehryar_taseer That's  true , \n",
      "Corona virus \n",
      "swine flue \n",
      "Bird flu in December when whole Pk is busy in Marriage halls eating multiple chicken dishes \n",
      "flu shots r billion$$ industry alone in western world \n",
      "\n",
      "3 english \n",
      "\n",
      "tweet 4 not found\n",
      "5 TLDR: Not SARS, possibly new coronavirus. Difficult to confirm because patients identified later in infection when viral nucleic acid is low.\n",
      "\n",
      "Experts search for answers in limited information about mystery pneumonia outbreak in China  via @statnews \n",
      "\n",
      "5 english \n",
      "\n",
      "6 Disease outbreak news from the WHO: Middle East respiratory syndrome coronavirus (MERS-CoV) - The United Arab Emirates  \n",
      "\n",
      "6 english \n",
      "\n",
      "tweet 7 not found\n",
      "8 China - Media: WSJ says sources tell them mystery pneumonia is a new coronavirus - something that has been speculated for days.   h/t Shiloh, alert \n",
      "\n",
      "8 english \n",
      "\n",
      "9 The mystery new virus causing #China pneumonia outbreak is possibly new coronavirus (same family as #sars and #mers - h/t @HelenBranswell ). Is it time to catalogue all animal viruses? My @FT col on divided opinions.  via @financialtimes \n",
      "\n",
      "9 english \n",
      "\n",
      "tweet 10 not found\n",
      "11 #VicioNoticias Un nuevo tipo de coronavirus podria ser el responsable de la neumonia de origen desconocido que se propaga en China   \n",
      "\n",
      "11 spanish \n",
      "\n",
      "12 Se las traen los  Coronavirus  \n",
      "\n",
      "12 spanish \n",
      "\n",
      "tweet 13 not found\n",
      "14 Virologists weigh in on novel coronavirus in China's outbreak  \n",
      "\n",
      "14 english \n",
      "\n",
      "tweet 15 not found\n",
      "16 #Sante Pneumonie en Chine: un nouveau coronavirus identifie (medias)  \n",
      "\n",
      "16 french \n",
      "\n",
      "17 \"Chinese authorities have made a preliminary determination of a novel (or new) #coronavirus, identified in a hospitalized person with pneumonia in #Wuhan.\" \n",
      "\n",
      "17 english \n",
      "\n",
      "18 @tezuma75 Why #CCP keep on saying unknown cause of pneumonia? The cause is obviously related to corona virus. Let's just call it #WARS.#CCP just want to dilute the #WARS caused by the barbarian Chinese to kill and eat wild animals, torture the animals. \n",
      "\n",
      "18 english \n",
      "\n",
      "19 Chinese report says mysterious illnesses may be from new coronavirus   \n",
      "\n",
      "19 english \n",
      "\n"
     ]
    }
   ],
   "source": [
    "import re\n",
    "!pip3 install unidecode\n",
    "from unidecode import unidecode\n",
    "!pip3 install google_trans_new\n",
    "import google_trans_new\n",
    "from google_trans_new import google_translator\n",
    "\n",
    "\n",
    "for i in range(len(tweet_ids)):\n",
    "    try:\n",
    "        # get full tweet text from tweet id\n",
    "        tweet = api.get_status(tweet_ids[i], tweet_mode=\"extended\")\n",
    "        #print(tweet.full_text + \"\\n\")\n",
    "\n",
    "        # remove links beginning with http\n",
    "        text = re.sub(r\"http\\S+\", \"\", tweet.full_text)\n",
    "        #print(text + \"\\n\")\n",
    "\n",
    "        # remove emojis\n",
    "        print(i, unidecode(text), '\\n')\n",
    "        detector = google_translator()\n",
    "        print(i, detector.detect(text)[1], '\\n')\n",
    "\n",
    "    except tweepy.TweepError:\n",
    "        print(\"tweet\", i, \"not found\")"
   ]
  },
  {
   "cell_type": "code",
   "execution_count": null,
   "metadata": {},
   "outputs": [],
   "source": []
  }
 ],
 "metadata": {
  "kernelspec": {
   "display_name": "Python 3",
   "language": "python",
   "name": "python3"
  },
  "language_info": {
   "codemirror_mode": {
    "name": "ipython",
    "version": 3
   },
   "file_extension": ".py",
   "mimetype": "text/x-python",
   "name": "python",
   "nbconvert_exporter": "python",
   "pygments_lexer": "ipython3",
   "version": "3.7.8"
  }
 },
 "nbformat": 4,
 "nbformat_minor": 4
}
