{
 "cells": [
  {
   "cell_type": "code",
   "execution_count": 2,
   "metadata": {},
   "outputs": [
    {
     "name": "stdout",
     "output_type": "stream",
     "text": [
      "Defaulting to user installation because normal site-packages is not writeable\n",
      "Collecting instaloader\n",
      "  Downloading instaloader-4.5.5.tar.gz (47 kB)\n",
      "Requirement already satisfied: requests>=2.4 in c:\\users\\shery\\appdata\\roaming\\python\\python37\\site-packages (from instaloader) (2.24.0)\n",
      "Requirement already satisfied: certifi>=2017.4.17 in c:\\users\\shery\\appdata\\roaming\\python\\python37\\site-packages (from requests>=2.4->instaloader) (2020.6.20)\n",
      "Requirement already satisfied: chardet<4,>=3.0.2 in c:\\users\\shery\\appdata\\roaming\\python\\python37\\site-packages (from requests>=2.4->instaloader) (3.0.4)\n",
      "Requirement already satisfied: urllib3!=1.25.0,!=1.25.1,<1.26,>=1.21.1 in c:\\users\\shery\\appdata\\roaming\\python\\python37\\site-packages (from requests>=2.4->instaloader) (1.25.9)\n",
      "Requirement already satisfied: idna<3,>=2.5 in c:\\users\\shery\\appdata\\roaming\\python\\python37\\site-packages (from requests>=2.4->instaloader) (2.10)\n",
      "Using legacy setup.py install for instaloader, since package 'wheel' is not installed.\n",
      "Installing collected packages: instaloader\n",
      "    Running setup.py install for instaloader: started\n",
      "    Running setup.py install for instaloader: finished with status 'done'\n",
      "Successfully installed instaloader-4.5.5\n"
     ]
    },
    {
     "name": "stderr",
     "output_type": "stream",
     "text": [
      "WARNING: You are using pip version 20.1.1; however, version 20.3.3 is available.\n",
      "You should consider upgrading via the 'c:\\program files\\python37\\python.exe -m pip install --upgrade pip' command.\n"
     ]
    }
   ],
   "source": [
    "!pip3 install instaloader\n",
    "import instaloader\n",
    "import json"
   ]
  },
  {
   "cell_type": "code",
   "execution_count": 4,
   "metadata": {},
   "outputs": [
    {
     "name": "stdout",
     "output_type": "stream",
     "text": [
      "B7Q8T1hhxl3\n",
      "5447\n"
     ]
    }
   ],
   "source": [
    "# dataset with instagram post ids\n",
    "file = open('list_shortcode.json')\n",
    "data = json.load(file)\n",
    "\n",
    "print(data[\"0\"])\n",
    "print(len(data))\n",
    "file.close()"
   ]
  },
  {
   "cell_type": "code",
   "execution_count": 10,
   "metadata": {},
   "outputs": [
    {
     "name": "stdout",
     "output_type": "stream",
     "text": [
      "2020-01-13 15:23:21\n",
      "With the new day comes new strenght and new thought💪\n",
      "Price worth it💯💯 .\n",
      "\n",
      "Apa-apa urusan boleh click link kat bio atau whatsapp je nombor 0177030710,okayy!!!\n",
      ".\n",
      "\n",
      "#mila_polaroid #photoalbum #gerobokphoto #polaroid #polaroidmurahmalaysia #polaroidmurah #polaroidkalisair #polaroidfamily #polaroidmember #polaroidviral #covid19 #coronavirus #superring\n"
     ]
    }
   ],
   "source": [
    "# Get instance\n",
    "loader = instaloader.Instaloader()\n",
    "postID = data[\"0\"]\n",
    "post1 = instaloader.Post.from_shortcode(loader.context, postID)\n",
    "print(post1.date)\n",
    "print(post1.caption)"
   ]
  },
  {
   "cell_type": "code",
   "execution_count": null,
   "metadata": {},
   "outputs": [],
   "source": []
  }
 ],
 "metadata": {
  "kernelspec": {
   "display_name": "Python 3",
   "language": "python",
   "name": "python3"
  },
  "language_info": {
   "codemirror_mode": {
    "name": "ipython",
    "version": 3
   },
   "file_extension": ".py",
   "mimetype": "text/x-python",
   "name": "python",
   "nbconvert_exporter": "python",
   "pygments_lexer": "ipython3",
   "version": "3.7.8"
  }
 },
 "nbformat": 4,
 "nbformat_minor": 4
}
