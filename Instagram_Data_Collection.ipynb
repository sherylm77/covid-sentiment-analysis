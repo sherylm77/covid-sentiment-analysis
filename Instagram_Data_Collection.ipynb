{
 "cells": [
  {
   "cell_type": "code",
   "execution_count": 1,
   "metadata": {},
   "outputs": [
    {
     "name": "stdout",
     "output_type": "stream",
     "text": [
      "Defaulting to user installation because normal site-packages is not writeable\n",
      "Requirement already satisfied: instaloader in c:\\users\\shery\\appdata\\roaming\\python\\python37\\site-packages (4.5.5)\n",
      "Requirement already satisfied: requests>=2.4 in c:\\users\\shery\\appdata\\roaming\\python\\python37\\site-packages (from instaloader) (2.24.0)\n",
      "Requirement already satisfied: certifi>=2017.4.17 in c:\\users\\shery\\appdata\\roaming\\python\\python37\\site-packages (from requests>=2.4->instaloader) (2020.6.20)\n",
      "Requirement already satisfied: urllib3!=1.25.0,!=1.25.1,<1.26,>=1.21.1 in c:\\users\\shery\\appdata\\roaming\\python\\python37\\site-packages (from requests>=2.4->instaloader) (1.25.9)\n",
      "Requirement already satisfied: chardet<4,>=3.0.2 in c:\\users\\shery\\appdata\\roaming\\python\\python37\\site-packages (from requests>=2.4->instaloader) (3.0.4)\n",
      "Requirement already satisfied: idna<3,>=2.5 in c:\\users\\shery\\appdata\\roaming\\python\\python37\\site-packages (from requests>=2.4->instaloader) (2.10)\n"
     ]
    },
    {
     "name": "stderr",
     "output_type": "stream",
     "text": [
      "WARNING: You are using pip version 20.1.1; however, version 21.0.1 is available.\n",
      "You should consider upgrading via the 'c:\\program files\\python37\\python.exe -m pip install --upgrade pip' command.\n"
     ]
    }
   ],
   "source": [
    "!pip3 install instaloader\n",
    "import instaloader\n",
    "import json"
   ]
  },
  {
   "cell_type": "code",
   "execution_count": 2,
   "metadata": {},
   "outputs": [
    {
     "name": "stdout",
     "output_type": "stream",
     "text": [
      "B7Q8T1hhxl3\n",
      "5447\n"
     ]
    }
   ],
   "source": [
    "# dataset with instagram post ids\n",
    "file = open('list_shortcode.json')\n",
    "data = json.load(file)\n",
    "\n",
    "print(data[\"0\"])\n",
    "print(len(data))\n",
    "file.close()"
   ]
  },
  {
   "cell_type": "code",
   "execution_count": null,
   "metadata": {},
   "outputs": [
    {
     "name": "stderr",
     "output_type": "stream",
     "text": [
      "WARNING: You are using pip version 20.1.1; however, version 21.0.1 is available.\n",
      "You should consider upgrading via the 'c:\\program files\\python37\\python.exe -m pip install --upgrade pip' command.\n"
     ]
    },
    {
     "name": "stdout",
     "output_type": "stream",
     "text": [
      "Defaulting to user installation because normal site-packages is not writeable\n",
      "Requirement already satisfied: unidecode in c:\\users\\shery\\appdata\\roaming\\python\\python37\\site-packages (1.1.1)\n",
      "\n",
      "HTTP redirect from https://www.instagram.com/graphql/query to https://www.instagram.com/accounts/login/\n",
      "0 some other exception\n",
      "\n",
      "HTTP redirect from https://www.instagram.com/graphql/query to https://www.instagram.com/accounts/login/\n",
      "1 some other exception\n",
      "2 some other exception\n",
      "\n",
      "HTTP redirect from https://www.instagram.com/graphql/query to https://www.instagram.com/accounts/login/\n",
      "3 some other exception\n",
      "\n",
      "HTTP redirect from https://www.instagram.com/graphql/query to https://www.instagram.com/accounts/login/\n",
      "4 some other exception\n",
      "\n",
      "HTTP redirect from https://www.instagram.com/graphql/query to https://www.instagram.com/accounts/login/\n",
      "5 some other exception\n",
      "\n",
      "HTTP redirect from https://www.instagram.com/graphql/query to https://www.instagram.com/accounts/login/\n",
      "6 some other exception\n",
      "\n",
      "HTTP redirect from https://www.instagram.com/graphql/query to https://www.instagram.com/accounts/login/\n",
      "7 some other exception\n",
      "\n",
      "HTTP redirect from https://www.instagram.com/graphql/query to https://www.instagram.com/accounts/login/\n",
      "8 some other exception\n",
      "\n",
      "HTTP redirect from https://www.instagram.com/graphql/query to https://www.instagram.com/accounts/login/\n",
      "9 some other exception\n"
     ]
    }
   ],
   "source": [
    "# Get instance\n",
    "import re\n",
    "!pip3 install unidecode\n",
    "from unidecode import unidecode\n",
    "\n",
    "loader = instaloader.Instaloader()\n",
    "\n",
    "import csv\n",
    "\n",
    "with open('IGposts.tsv', 'wt') as out_file:\n",
    "    tsv_writer = csv.writer(out_file, delimiter='\\t')\n",
    "    tsv_writer.writerow(['postID', 'post date', 'post caption'])\n",
    "    for i in range(20):\n",
    "        postID = data[str(i)]\n",
    "\n",
    "        try:\n",
    "            post1 = instaloader.Post.from_shortcode(loader.context, postID)\n",
    "            print(post1.date)\n",
    "            #print(post1.caption, '\\n')\n",
    "            text = post1.caption\n",
    "\n",
    "            text = re.sub(r\"http\\S+\", \"\", text)\n",
    "            text = re.sub(r\"\\n\", \" \", text)\n",
    "            text = unidecode(text)\n",
    "            print(i, text, '\\n')\n",
    "            tsv_writer.writerow([postID, post1.date, text])\n",
    "        except instaloader.BadResponseException:\n",
    "            print(i, \"bad response exception\")\n",
    "            tsv_writer.writerow([postID, '', ''])\n",
    "        except:\n",
    "            print(i, \"some other exception\")\n",
    "            tsv_writer.writerow([postID, '', ''])"
   ]
  },
  {
   "cell_type": "code",
   "execution_count": null,
   "metadata": {},
   "outputs": [],
   "source": []
  }
 ],
 "metadata": {
  "kernelspec": {
   "display_name": "Python 3",
   "language": "python",
   "name": "python3"
  },
  "language_info": {
   "codemirror_mode": {
    "name": "ipython",
    "version": 3
   },
   "file_extension": ".py",
   "mimetype": "text/x-python",
   "name": "python",
   "nbconvert_exporter": "python",
   "pygments_lexer": "ipython3",
   "version": "3.7.8"
  }
 },
 "nbformat": 4,
 "nbformat_minor": 4
}
