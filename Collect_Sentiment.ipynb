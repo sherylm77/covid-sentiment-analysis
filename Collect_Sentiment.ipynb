{
 "cells": [
  {
   "cell_type": "code",
   "execution_count": 11,
   "metadata": {},
   "outputs": [],
   "source": [
    "from textblob import TextBlob\n",
    "import calendar\n",
    "\n",
    "def tsv_to_list(annotation_file):\n",
    "    annotation_list = []\n",
    "    annotation = open(annotation_file, encoding='utf-8')\n",
    "    read_tsv = csv.reader(annotation, delimiter=\"\\t\") \n",
    "    for row in read_tsv:\n",
    "        if len(row) > 2:\n",
    "            if row[2] != '' and row[2] != 'tweetText':\n",
    "                text = TextBlob(row[2])\n",
    "                month = calendar.month_name[int(row[1][5:7])]\n",
    "                if row[1][:4] == '2021':\n",
    "                    month += ' 2021'\n",
    "                annotation_list.append([row[0], row[1], month, row[2], text.sentiment.polarity])\n",
    "    return annotation_list"
   ]
  },
  {
   "cell_type": "code",
   "execution_count": 17,
   "metadata": {
    "collapsed": true
   },
   "outputs": [
    {
     "name": "stdout",
     "output_type": "stream",
     "text": [
      "Defaulting to user installation because normal site-packages is not writeable\n",
      "Collecting vaderSentiment\n",
      "  Downloading vaderSentiment-3.3.2-py2.py3-none-any.whl (125 kB)\n",
      "Requirement already satisfied: requests in c:\\users\\shery\\appdata\\roaming\\python\\python37\\site-packages (from vaderSentiment) (2.24.0)\n",
      "Requirement already satisfied: chardet<4,>=3.0.2 in c:\\users\\shery\\appdata\\roaming\\python\\python37\\site-packages (from requests->vaderSentiment) (3.0.4)\n",
      "Requirement already satisfied: certifi>=2017.4.17 in c:\\users\\shery\\appdata\\roaming\\python\\python37\\site-packages (from requests->vaderSentiment) (2020.6.20)\n",
      "Requirement already satisfied: urllib3!=1.25.0,!=1.25.1,<1.26,>=1.21.1 in c:\\users\\shery\\appdata\\roaming\\python\\python37\\site-packages (from requests->vaderSentiment) (1.25.9)\n",
      "Requirement already satisfied: idna<3,>=2.5 in c:\\users\\shery\\appdata\\roaming\\python\\python37\\site-packages (from requests->vaderSentiment) (2.10)\n",
      "Installing collected packages: vaderSentiment\n",
      "Successfully installed vaderSentiment-3.3.2\n"
     ]
    },
    {
     "name": "stderr",
     "output_type": "stream",
     "text": [
      "WARNING: You are using pip version 20.1.1; however, version 21.0.1 is available.\n",
      "You should consider upgrading via the 'c:\\program files\\python37\\python.exe -m pip install --upgrade pip' command.\n"
     ]
    }
   ],
   "source": [
    "#!pip3 install vaderSentiment\n",
    "from vaderSentiment.vaderSentiment import SentimentIntensityAnalyzer \n",
    "import calendar\n",
    "\n",
    "def tsv_to_list_vader(annotation_file):\n",
    "    annotation_list = []\n",
    "    analyzer = SentimentIntensityAnalyzer()\n",
    "    annotation = open(annotation_file, encoding='utf-8')\n",
    "    read_tsv = csv.reader(annotation, delimiter=\"\\t\") \n",
    "    for row in read_tsv:\n",
    "        if len(row) > 2:\n",
    "            if row[2] != '' and row[2] != 'tweetText':\n",
    "                month = calendar.month_name[int(row[1][5:7])]\n",
    "                if row[1][:4] == '2021':\n",
    "                    month += ' 2021'\n",
    "                annotation_list.append([row[0], row[1], month, row[2], analyzer.polarity_scores(row[2])['compound']])\n",
    "    return annotation_list"
   ]
  },
  {
   "cell_type": "code",
   "execution_count": 20,
   "metadata": {
    "collapsed": true
   },
   "outputs": [
    {
     "name": "stdout",
     "output_type": "stream",
     "text": [
      "Defaulting to user installation because normal site-packages is not writeable\n",
      "Requirement already satisfied: vaderSentiment in c:\\users\\shery\\appdata\\roaming\\python\\python37\\site-packages (3.3.2)\n",
      "Requirement already satisfied: requests in c:\\users\\shery\\appdata\\roaming\\python\\python37\\site-packages (from vaderSentiment) (2.24.0)\n",
      "Requirement already satisfied: chardet<4,>=3.0.2 in c:\\users\\shery\\appdata\\roaming\\python\\python37\\site-packages (from requests->vaderSentiment) (3.0.4)\n",
      "Requirement already satisfied: urllib3!=1.25.0,!=1.25.1,<1.26,>=1.21.1 in c:\\users\\shery\\appdata\\roaming\\python\\python37\\site-packages (from requests->vaderSentiment) (1.25.9)\n",
      "Requirement already satisfied: certifi>=2017.4.17 in c:\\users\\shery\\appdata\\roaming\\python\\python37\\site-packages (from requests->vaderSentiment) (2020.6.20)\n",
      "Requirement already satisfied: idna<3,>=2.5 in c:\\users\\shery\\appdata\\roaming\\python\\python37\\site-packages (from requests->vaderSentiment) (2.10)\n"
     ]
    },
    {
     "name": "stderr",
     "output_type": "stream",
     "text": [
      "WARNING: You are using pip version 20.1.1; however, version 21.0.1 is available.\n",
      "You should consider upgrading via the 'c:\\program files\\python37\\python.exe -m pip install --upgrade pip' command.\n"
     ]
    }
   ],
   "source": [
    "#!pip3 install vaderSentiment\n",
    "from vaderSentiment.vaderSentiment import SentimentIntensityAnalyzer \n",
    "import calendar\n",
    "\n",
    "def tsv_to_list_vader_IG(annotation_file):\n",
    "    annotation_list = []\n",
    "    analyzer = SentimentIntensityAnalyzer()\n",
    "    annotation = open(annotation_file, encoding='utf-8')\n",
    "    read_tsv = csv.reader(annotation, delimiter=\"\\t\") \n",
    "    for row in read_tsv:\n",
    "        if len(row) > 2:\n",
    "            if row[2] != '':\n",
    "                month = calendar.month_name[int(row[1][5:7])]\n",
    "                annotation_list.append([row[0], row[1], month, row[2], analyzer.polarity_scores(row[2])['compound']])\n",
    "    return annotation_list"
   ]
  },
  {
   "cell_type": "code",
   "execution_count": 19,
   "metadata": {
    "collapsed": true
   },
   "outputs": [
    {
     "name": "stdout",
     "output_type": "stream",
     "text": [
      "Jan 405 3988 839 5232\n",
      "Jan 7.740825688073394 76.22324159021406 16.035932721712538\n",
      "Feb 428 3706 965 5099\n",
      "Feb 8.393802706413023 72.6809178270249 18.92527946656207\n",
      "Mar 798 3733 857 5388\n",
      "Mar 14.810690423162583 69.28359317000744 15.905716406829992\n",
      "Apr 776 3379 776 4931\n",
      "Apr 15.737172987223689 68.52565402555263 15.737172987223689\n",
      "May 844 3709 821 5374\n",
      "May 15.705247487904728 69.0174916263491 15.277260885746186\n",
      "Jun 831 3618 880 5329\n",
      "Jun 15.593920060048791 67.89266278851566 16.51341715143554\n",
      "Jul 800 3679 852 5331\n",
      "Jul 15.006565372350403 69.01144250609642 15.98199212155318\n",
      "Aug 842 3694 814 5350\n",
      "Aug 15.738317757009346 69.04672897196261 15.214953271028037\n",
      "Sep 795 3344 758 4897\n",
      "Sep 16.234429242393304 68.28670614662038 15.478864610986317\n",
      "Oct 806 3343 794 4943\n",
      "Oct 16.305887113089216 67.63099332389237 16.06311956301841\n",
      "Nov 833 3360 727 4920\n",
      "Nov 16.93089430894309 68.29268292682927 14.776422764227643\n",
      "Dec 790 3406 706 4902\n",
      "Dec 16.115871073031414 69.48184414524684 14.402284781721747\n",
      "Jan2021 742 3544 690 4976\n",
      "Jan2021 14.911575562700966 71.22186495176848 13.866559485530546\n",
      "{'Jan': -0.073, 'Feb': -0.095, 'Mar': -0.002, 'Apr': 0.01, 'May': 0.015, 'Jun': 0.0, 'Jul': 0.0, 'Aug': 0.015, 'Sep': 0.005, 'Oct': 0.01, 'Nov': 0.031, 'Dec': 0.024, 'Jan2021': 0.015} \n",
      " {'Jan': 0.392, 'Feb': 0.404, 'Mar': 0.435, 'Apr': 0.444, 'May': 0.437, 'Jun': 0.445, 'Jul': 0.439, 'Aug': 0.441, 'Sep': 0.445, 'Oct': 0.444, 'Nov': 0.438, 'Dec': 0.436, 'Jan2021': 0.423}\n"
     ]
    }
   ],
   "source": [
    "import csv\n",
    "import pandas as pd\n",
    "import random\n",
    "import math\n",
    "\n",
    "months = ['Jan', 'Feb', 'Mar', 'Apr', 'May', 'Jun', 'Jul', 'Aug', 'Sep', 'Oct', 'Nov', 'Dec', 'Jan2021']\n",
    "means = {}\n",
    "st_devs = {}\n",
    "\n",
    "all_tweets = []\n",
    "for month in months:\n",
    "    filename = 'Tweet Annotations - '+month+' Translated.tsv'\n",
    "    temp_list = tsv_to_list_vader(filename)\n",
    "    tweets_df = pd.DataFrame(temp_list, columns=['id', 'date', 'month', 'text', 'sentiment'])\n",
    "    all_tweets += temp_list\n",
    "    means[month] = round(tweets_df['sentiment'].mean(), 3)\n",
    "    st_devs[month] = round(tweets_df['sentiment'].std(), 3)\n",
    "    pos = 0\n",
    "    neu = 0\n",
    "    neg = 0\n",
    "    for sent in tweets_df['sentiment'].values:\n",
    "        if sent < 0.5 and sent > -0.5 : neu += 1\n",
    "        if sent >= 0.5: pos += 1\n",
    "        if sent <= -0.5: neg += 1\n",
    "    total = pos+neu+neg\n",
    "    print(month, pos, neu, neg, total)\n",
    "    print(month, pos/total*100, neu/total*100, neg/total*100)\n",
    "    \n",
    "print(means, '\\n', st_devs)"
   ]
  },
  {
   "cell_type": "code",
   "execution_count": 21,
   "metadata": {
    "collapsed": true
   },
   "outputs": [
    {
     "name": "stdout",
     "output_type": "stream",
     "text": [
      "<class 'pandas.core.frame.DataFrame'>\n",
      "RangeIndex: 3608 entries, 0 to 3607\n",
      "Data columns (total 5 columns):\n",
      " #   Column     Non-Null Count  Dtype  \n",
      "---  ------     --------------  -----  \n",
      " 0   id         3608 non-null   object \n",
      " 1   date       3608 non-null   object \n",
      " 2   month      3608 non-null   object \n",
      " 3   text       3608 non-null   object \n",
      " 4   sentiment  3608 non-null   float64\n",
      "dtypes: float64(1), object(4)\n",
      "memory usage: 141.1+ KB\n"
     ]
    }
   ],
   "source": [
    "posts = tsv_to_list_vader_IG('IGpostsTranslated.tsv')\n",
    "posts_df = pd.DataFrame(posts, columns=['id', 'date', 'month', 'text', 'sentiment'])\n",
    "posts_df.info()"
   ]
  },
  {
   "cell_type": "code",
   "execution_count": 22,
   "metadata": {},
   "outputs": [
    {
     "name": "stdout",
     "output_type": "stream",
     "text": [
      "715 1330 1563\n"
     ]
    }
   ],
   "source": [
    "jan_list = []\n",
    "feb_list = []\n",
    "mar_list = []\n",
    "\n",
    "for i in range(len(posts)):\n",
    "    if posts[i][2] == 'January':\n",
    "        jan_list.append(posts[i])\n",
    "    if posts[i][2] == 'February':\n",
    "        feb_list.append(posts[i])\n",
    "    if posts[i][2] == 'March':\n",
    "        mar_list.append(posts[i])\n",
    "print(len(jan_list), len(feb_list), len(mar_list))"
   ]
  },
  {
   "cell_type": "code",
   "execution_count": 24,
   "metadata": {},
   "outputs": [
    {
     "name": "stdout",
     "output_type": "stream",
     "text": [
      "Jan 348 338 29 715\n",
      "Feb 509 744 77 1330\n",
      "Mar 689 796 78 1563\n",
      "{'Jan': 0.406, 'Feb': 0.291, 'Mar': 0.36} \n",
      " {'Jan': 0.469, 'Feb': 0.477, 'Mar': 0.478}\n"
     ]
    }
   ],
   "source": [
    "means = {}\n",
    "st_devs = {}\n",
    "\n",
    "months = ['Jan', 'Feb', 'Mar']\n",
    "\n",
    "for month in months:\n",
    "    if month == 'Jan':\n",
    "        temp_list = jan_list\n",
    "    if month == 'Feb':\n",
    "        temp_list = feb_list\n",
    "    if month == 'Mar':\n",
    "        temp_list = mar_list\n",
    "    posts_df = pd.DataFrame(temp_list, columns=['id', 'date', 'month', 'text', 'sentiment'])\n",
    "    means[month] = round(posts_df['sentiment'].mean(), 3)\n",
    "    st_devs[month] = round(posts_df['sentiment'].std(), 3)\n",
    "    pos = 0\n",
    "    neu = 0\n",
    "    neg = 0\n",
    "    for sent in posts_df['sentiment'].values:\n",
    "        if sent < 0.5 and sent > -0.5 : neu += 1\n",
    "        if sent >= 0.5: pos += 1\n",
    "        if sent <= -0.5: neg += 1\n",
    "    total = pos+neu+neg\n",
    "    print(month, pos, neu, neg, total)\n",
    "print(means, '\\n', st_devs)"
   ]
  },
  {
   "cell_type": "code",
   "execution_count": null,
   "metadata": {},
   "outputs": [],
   "source": []
  }
 ],
 "metadata": {
  "kernelspec": {
   "display_name": "Python 3",
   "language": "python",
   "name": "python3"
  },
  "language_info": {
   "codemirror_mode": {
    "name": "ipython",
    "version": 3
   },
   "file_extension": ".py",
   "mimetype": "text/x-python",
   "name": "python",
   "nbconvert_exporter": "python",
   "pygments_lexer": "ipython3",
   "version": "3.7.8"
  }
 },
 "nbformat": 4,
 "nbformat_minor": 4
}
